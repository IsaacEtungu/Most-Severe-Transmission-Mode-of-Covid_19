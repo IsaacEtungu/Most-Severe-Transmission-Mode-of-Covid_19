{
 "cells": [
  {
   "cell_type": "markdown",
   "metadata": {},
   "source": [
    "# Predicting Global Covid-19 deaths based on multiple variables & determining the most severe disease transmission mode\n",
    "<b>By Isaac Etungu</b>"
   ]
  },
  {
   "cell_type": "markdown",
   "metadata": {},
   "source": [
    "<b>Data source:</b> https://covid19.who.int/table; As at July 1st 2021 at 7.47.07 PM"
   ]
  },
  {
   "cell_type": "code",
   "execution_count": 1,
   "metadata": {},
   "outputs": [
    {
     "data": {
      "text/html": [
       "<div>\n",
       "<style scoped>\n",
       "    .dataframe tbody tr th:only-of-type {\n",
       "        vertical-align: middle;\n",
       "    }\n",
       "\n",
       "    .dataframe tbody tr th {\n",
       "        vertical-align: top;\n",
       "    }\n",
       "\n",
       "    .dataframe thead th {\n",
       "        text-align: right;\n",
       "    }\n",
       "</style>\n",
       "<table border=\"1\" class=\"dataframe\">\n",
       "  <thead>\n",
       "    <tr style=\"text-align: right;\">\n",
       "      <th></th>\n",
       "      <th>Name</th>\n",
       "      <th>WHO Region</th>\n",
       "      <th>Cases - cumulative total</th>\n",
       "      <th>Cases - cumulative total per 100000 population</th>\n",
       "      <th>Cases - newly reported in last 7 days</th>\n",
       "      <th>Cases - newly reported in last 7 days per 100000 population</th>\n",
       "      <th>Cases - newly reported in last 24 hours</th>\n",
       "      <th>Deaths - cumulative total</th>\n",
       "      <th>Deaths - cumulative total per 100000 population</th>\n",
       "      <th>Deaths - newly reported in last 7 days</th>\n",
       "      <th>Deaths - newly reported in last 7 days per 100000 population</th>\n",
       "      <th>Deaths - newly reported in last 24 hours</th>\n",
       "      <th>Transmission Classification</th>\n",
       "    </tr>\n",
       "  </thead>\n",
       "  <tbody>\n",
       "    <tr>\n",
       "      <th>0</th>\n",
       "      <td>Global</td>\n",
       "      <td>NaN</td>\n",
       "      <td>181930736</td>\n",
       "      <td>2334.079081</td>\n",
       "      <td>2676885</td>\n",
       "      <td>34.343077</td>\n",
       "      <td>393657</td>\n",
       "      <td>3945832</td>\n",
       "      <td>50.623024</td>\n",
       "      <td>54833</td>\n",
       "      <td>0.70348</td>\n",
       "      <td>8097</td>\n",
       "      <td>NaN</td>\n",
       "    </tr>\n",
       "    <tr>\n",
       "      <th>1</th>\n",
       "      <td>United States of America</td>\n",
       "      <td>Americas</td>\n",
       "      <td>33317803</td>\n",
       "      <td>10065.720000</td>\n",
       "      <td>74274</td>\n",
       "      <td>22.440000</td>\n",
       "      <td>0</td>\n",
       "      <td>599089</td>\n",
       "      <td>180.990000</td>\n",
       "      <td>1717</td>\n",
       "      <td>0.52000</td>\n",
       "      <td>0</td>\n",
       "      <td>Community transmission</td>\n",
       "    </tr>\n",
       "    <tr>\n",
       "      <th>2</th>\n",
       "      <td>India</td>\n",
       "      <td>South-East Asia</td>\n",
       "      <td>30411634</td>\n",
       "      <td>2203.730000</td>\n",
       "      <td>328856</td>\n",
       "      <td>23.830000</td>\n",
       "      <td>48786</td>\n",
       "      <td>399459</td>\n",
       "      <td>28.950000</td>\n",
       "      <td>7478</td>\n",
       "      <td>0.54000</td>\n",
       "      <td>1005</td>\n",
       "      <td>Clusters of cases</td>\n",
       "    </tr>\n",
       "    <tr>\n",
       "      <th>3</th>\n",
       "      <td>Brazil</td>\n",
       "      <td>Americas</td>\n",
       "      <td>18513305</td>\n",
       "      <td>8709.710000</td>\n",
       "      <td>458652</td>\n",
       "      <td>215.780000</td>\n",
       "      <td>64903</td>\n",
       "      <td>515985</td>\n",
       "      <td>242.750000</td>\n",
       "      <td>11268</td>\n",
       "      <td>5.30000</td>\n",
       "      <td>1893</td>\n",
       "      <td>Community transmission</td>\n",
       "    </tr>\n",
       "    <tr>\n",
       "      <th>4</th>\n",
       "      <td>France</td>\n",
       "      <td>Europe</td>\n",
       "      <td>5664630</td>\n",
       "      <td>8709.540000</td>\n",
       "      <td>11050</td>\n",
       "      <td>16.990000</td>\n",
       "      <td>2457</td>\n",
       "      <td>110162</td>\n",
       "      <td>169.380000</td>\n",
       "      <td>204</td>\n",
       "      <td>0.31000</td>\n",
       "      <td>25</td>\n",
       "      <td>Community transmission</td>\n",
       "    </tr>\n",
       "  </tbody>\n",
       "</table>\n",
       "</div>"
      ],
      "text/plain": [
       "                       Name       WHO Region  Cases - cumulative total  \\\n",
       "0                    Global              NaN                 181930736   \n",
       "1  United States of America         Americas                  33317803   \n",
       "2                     India  South-East Asia                  30411634   \n",
       "3                    Brazil         Americas                  18513305   \n",
       "4                    France           Europe                   5664630   \n",
       "\n",
       "   Cases - cumulative total per 100000 population  \\\n",
       "0                                     2334.079081   \n",
       "1                                    10065.720000   \n",
       "2                                     2203.730000   \n",
       "3                                     8709.710000   \n",
       "4                                     8709.540000   \n",
       "\n",
       "   Cases - newly reported in last 7 days  \\\n",
       "0                                2676885   \n",
       "1                                  74274   \n",
       "2                                 328856   \n",
       "3                                 458652   \n",
       "4                                  11050   \n",
       "\n",
       "   Cases - newly reported in last 7 days per 100000 population  \\\n",
       "0                                          34.343077             \n",
       "1                                          22.440000             \n",
       "2                                          23.830000             \n",
       "3                                         215.780000             \n",
       "4                                          16.990000             \n",
       "\n",
       "   Cases - newly reported in last 24 hours  Deaths - cumulative total  \\\n",
       "0                                   393657                    3945832   \n",
       "1                                        0                     599089   \n",
       "2                                    48786                     399459   \n",
       "3                                    64903                     515985   \n",
       "4                                     2457                     110162   \n",
       "\n",
       "   Deaths - cumulative total per 100000 population  \\\n",
       "0                                        50.623024   \n",
       "1                                       180.990000   \n",
       "2                                        28.950000   \n",
       "3                                       242.750000   \n",
       "4                                       169.380000   \n",
       "\n",
       "   Deaths - newly reported in last 7 days  \\\n",
       "0                                   54833   \n",
       "1                                    1717   \n",
       "2                                    7478   \n",
       "3                                   11268   \n",
       "4                                     204   \n",
       "\n",
       "   Deaths - newly reported in last 7 days per 100000 population  \\\n",
       "0                                            0.70348              \n",
       "1                                            0.52000              \n",
       "2                                            0.54000              \n",
       "3                                            5.30000              \n",
       "4                                            0.31000              \n",
       "\n",
       "   Deaths - newly reported in last 24 hours Transmission Classification  \n",
       "0                                      8097                         NaN  \n",
       "1                                         0      Community transmission  \n",
       "2                                      1005           Clusters of cases  \n",
       "3                                      1893      Community transmission  \n",
       "4                                        25      Community transmission  "
      ]
     },
     "execution_count": 1,
     "metadata": {},
     "output_type": "execute_result"
    }
   ],
   "source": [
    "import os, types\n",
    "import pandas as pd\n",
    "from botocore.client import Config\n",
    "import ibm_boto3\n",
    "\n",
    "def __iter__(self): return 0\n",
    "\n",
    "if os.environ.get('RUNTIME_ENV_LOCATION_TYPE') == 'external':\n",
    "    endpoint_3c26b3cf43444cc9a4694e4fe78b76af = 'https://s3.eu.cloud-object-storage.appdomain.cloud'\n",
    "else:\n",
    "    endpoint_3c26b3cf43444cc9a4694e4fe78b76af = 'https://s3.private.eu.cloud-object-storage.appdomain.cloud'\n",
    "\n",
    "client_3c26b3cf43444cc9a4694e4fe78b76af = ibm_boto3.client(service_name='s3',\n",
    "    ibm_api_key_id='tqoX34AwpoDw7ySIINGXu5zYo6Lxsay7Pu94sMbYlg1S',\n",
    "    ibm_auth_endpoint=\"https://iam.cloud.ibm.com/oidc/token\",\n",
    "    config=Config(signature_version='oauth'),\n",
    "    endpoint_url=endpoint_3c26b3cf43444cc9a4694e4fe78b76af)\n",
    "\n",
    "body = client_3c26b3cf43444cc9a4694e4fe78b76af.get_object(Bucket='covid19-donotdelete-pr-tk9irdpet5gshe',Key='WHO COVID-19 global table data July 1st 2021 at 7.47.07 PM.csv')['Body']\n",
    "# add missing __iter__ method, so pandas accepts body as file-like object\n",
    "if not hasattr(body, \"__iter__\"): body.__iter__ = types.MethodType( __iter__, body )\n",
    "\n",
    "df_data_1 = pd.read_csv(body)\n",
    "df_data_1.head()\n"
   ]
  },
  {
   "cell_type": "code",
   "execution_count": 2,
   "metadata": {},
   "outputs": [
    {
     "data": {
      "text/plain": [
       "(238, 13)"
      ]
     },
     "execution_count": 2,
     "metadata": {},
     "output_type": "execute_result"
    }
   ],
   "source": [
    "#Check no of rows & Columns in the dataset\n",
    "df_data_1.shape"
   ]
  },
  {
   "cell_type": "code",
   "execution_count": 3,
   "metadata": {},
   "outputs": [
    {
     "data": {
      "text/plain": [
       "Index(['Name', 'WHO Region', 'Cases - cumulative total',\n",
       "       'Cases - cumulative total per 100000 population',\n",
       "       'Cases - newly reported in last 7 days',\n",
       "       'Cases - newly reported in last 7 days per 100000 population',\n",
       "       'Cases - newly reported in last 24 hours', 'Deaths - cumulative total',\n",
       "       'Deaths - cumulative total per 100000 population',\n",
       "       'Deaths - newly reported in last 7 days',\n",
       "       'Deaths - newly reported in last 7 days per 100000 population',\n",
       "       'Deaths - newly reported in last 24 hours',\n",
       "       'Transmission Classification'],\n",
       "      dtype='object')"
      ]
     },
     "execution_count": 3,
     "metadata": {},
     "output_type": "execute_result"
    }
   ],
   "source": [
    "#Checking Column headers in the dataset\n",
    "df_data_1.columns"
   ]
  },
  {
   "cell_type": "code",
   "execution_count": 4,
   "metadata": {},
   "outputs": [
    {
     "data": {
      "text/plain": [
       "Name                                                             object\n",
       "WHO Region                                                       object\n",
       "Cases - cumulative total                                          int64\n",
       "Cases - cumulative total per 100000 population                  float64\n",
       "Cases - newly reported in last 7 days                             int64\n",
       "Cases - newly reported in last 7 days per 100000 population     float64\n",
       "Cases - newly reported in last 24 hours                           int64\n",
       "Deaths - cumulative total                                         int64\n",
       "Deaths - cumulative total per 100000 population                 float64\n",
       "Deaths - newly reported in last 7 days                            int64\n",
       "Deaths - newly reported in last 7 days per 100000 population    float64\n",
       "Deaths - newly reported in last 24 hours                          int64\n",
       "Transmission Classification                                      object\n",
       "dtype: object"
      ]
     },
     "execution_count": 4,
     "metadata": {},
     "output_type": "execute_result"
    }
   ],
   "source": [
    "#Understanding data types in the dataset of each column\n",
    "df_data_1.dtypes"
   ]
  },
  {
   "cell_type": "code",
   "execution_count": 5,
   "metadata": {},
   "outputs": [
    {
     "name": "stdout",
     "output_type": "stream",
     "text": [
      "<class 'pandas.core.frame.DataFrame'>\n",
      "RangeIndex: 238 entries, 0 to 237\n",
      "Data columns (total 13 columns):\n",
      " #   Column                                                        Non-Null Count  Dtype  \n",
      "---  ------                                                        --------------  -----  \n",
      " 0   Name                                                          238 non-null    object \n",
      " 1   WHO Region                                                    237 non-null    object \n",
      " 2   Cases - cumulative total                                      238 non-null    int64  \n",
      " 3   Cases - cumulative total per 100000 population                237 non-null    float64\n",
      " 4   Cases - newly reported in last 7 days                         238 non-null    int64  \n",
      " 5   Cases - newly reported in last 7 days per 100000 population   237 non-null    float64\n",
      " 6   Cases - newly reported in last 24 hours                       238 non-null    int64  \n",
      " 7   Deaths - cumulative total                                     238 non-null    int64  \n",
      " 8   Deaths - cumulative total per 100000 population               237 non-null    float64\n",
      " 9   Deaths - newly reported in last 7 days                        238 non-null    int64  \n",
      " 10  Deaths - newly reported in last 7 days per 100000 population  237 non-null    float64\n",
      " 11  Deaths - newly reported in last 24 hours                      238 non-null    int64  \n",
      " 12  Transmission Classification                                   237 non-null    object \n",
      "dtypes: float64(4), int64(6), object(3)\n",
      "memory usage: 24.3+ KB\n"
     ]
    }
   ],
   "source": [
    "#getting more information about the columns\n",
    "df_data_1.info()"
   ]
  },
  {
   "cell_type": "code",
   "execution_count": 6,
   "metadata": {},
   "outputs": [],
   "source": [
    "#Renaming columns (Just to make it easy to understand)\n",
    "df_data_1.rename(columns = {'Name' : 'Country', 'WHO Region' : 'Region', 'Cases - cumulative total': 'Total cummulative cases',\n",
    "                     'Cases - cumulative total per 100000 population': 'Total cummulative cases/100,000 Pn.' ,\n",
    "                    'Cases - newly reported in last 7 days' : 'New cases reported in last 7days' , 'Cases - newly reported in last 7 days per 100000 population' : \n",
    "                    'New cases reported in last 7days/100,000 Pn.' , 'Cases - newly reported in last 24 hours' : 'New cases reported in last 24 hours' ,\n",
    "                    'Deaths - cumulative total' : 'Total cumulative Deaths' , 'Deaths - cumulative total per 100000 population' : 'Total cumulative Deaths/100,000 Pn.' ,\n",
    "                    'Deaths - newly reported in last 7 days' : 'New Deaths reported in last 7 days' , 'Deaths - newly reported in last 7 days per 100000 population' :\n",
    "                    'New Deaths reported in last 7 days/100,000 Pn.' , 'Deaths - newly reported in last 24 hours' : 'New Deaths reported in last 24 hours'}, inplace = True)"
   ]
  },
  {
   "cell_type": "code",
   "execution_count": 7,
   "metadata": {},
   "outputs": [
    {
     "data": {
      "text/html": [
       "<div>\n",
       "<style scoped>\n",
       "    .dataframe tbody tr th:only-of-type {\n",
       "        vertical-align: middle;\n",
       "    }\n",
       "\n",
       "    .dataframe tbody tr th {\n",
       "        vertical-align: top;\n",
       "    }\n",
       "\n",
       "    .dataframe thead th {\n",
       "        text-align: right;\n",
       "    }\n",
       "</style>\n",
       "<table border=\"1\" class=\"dataframe\">\n",
       "  <thead>\n",
       "    <tr style=\"text-align: right;\">\n",
       "      <th></th>\n",
       "      <th>Country</th>\n",
       "      <th>Region</th>\n",
       "      <th>Total cummulative cases</th>\n",
       "      <th>Total cummulative cases/100,000 Pn.</th>\n",
       "      <th>New cases reported in last 7days</th>\n",
       "      <th>New cases reported in last 7days/100,000 Pn.</th>\n",
       "      <th>New cases reported in last 24 hours</th>\n",
       "      <th>Total cumulative Deaths</th>\n",
       "      <th>Total cumulative Deaths/100,000 Pn.</th>\n",
       "      <th>New Deaths reported in last 7 days</th>\n",
       "      <th>New Deaths reported in last 7 days/100,000 Pn.</th>\n",
       "      <th>New Deaths reported in last 24 hours</th>\n",
       "      <th>Transmission Classification</th>\n",
       "    </tr>\n",
       "  </thead>\n",
       "  <tbody>\n",
       "    <tr>\n",
       "      <th>0</th>\n",
       "      <td>Global</td>\n",
       "      <td>NaN</td>\n",
       "      <td>181930736</td>\n",
       "      <td>2334.079081</td>\n",
       "      <td>2676885</td>\n",
       "      <td>34.343077</td>\n",
       "      <td>393657</td>\n",
       "      <td>3945832</td>\n",
       "      <td>50.623024</td>\n",
       "      <td>54833</td>\n",
       "      <td>0.70348</td>\n",
       "      <td>8097</td>\n",
       "      <td>NaN</td>\n",
       "    </tr>\n",
       "    <tr>\n",
       "      <th>1</th>\n",
       "      <td>United States of America</td>\n",
       "      <td>Americas</td>\n",
       "      <td>33317803</td>\n",
       "      <td>10065.720000</td>\n",
       "      <td>74274</td>\n",
       "      <td>22.440000</td>\n",
       "      <td>0</td>\n",
       "      <td>599089</td>\n",
       "      <td>180.990000</td>\n",
       "      <td>1717</td>\n",
       "      <td>0.52000</td>\n",
       "      <td>0</td>\n",
       "      <td>Community transmission</td>\n",
       "    </tr>\n",
       "    <tr>\n",
       "      <th>2</th>\n",
       "      <td>India</td>\n",
       "      <td>South-East Asia</td>\n",
       "      <td>30411634</td>\n",
       "      <td>2203.730000</td>\n",
       "      <td>328856</td>\n",
       "      <td>23.830000</td>\n",
       "      <td>48786</td>\n",
       "      <td>399459</td>\n",
       "      <td>28.950000</td>\n",
       "      <td>7478</td>\n",
       "      <td>0.54000</td>\n",
       "      <td>1005</td>\n",
       "      <td>Clusters of cases</td>\n",
       "    </tr>\n",
       "    <tr>\n",
       "      <th>3</th>\n",
       "      <td>Brazil</td>\n",
       "      <td>Americas</td>\n",
       "      <td>18513305</td>\n",
       "      <td>8709.710000</td>\n",
       "      <td>458652</td>\n",
       "      <td>215.780000</td>\n",
       "      <td>64903</td>\n",
       "      <td>515985</td>\n",
       "      <td>242.750000</td>\n",
       "      <td>11268</td>\n",
       "      <td>5.30000</td>\n",
       "      <td>1893</td>\n",
       "      <td>Community transmission</td>\n",
       "    </tr>\n",
       "    <tr>\n",
       "      <th>4</th>\n",
       "      <td>France</td>\n",
       "      <td>Europe</td>\n",
       "      <td>5664630</td>\n",
       "      <td>8709.540000</td>\n",
       "      <td>11050</td>\n",
       "      <td>16.990000</td>\n",
       "      <td>2457</td>\n",
       "      <td>110162</td>\n",
       "      <td>169.380000</td>\n",
       "      <td>204</td>\n",
       "      <td>0.31000</td>\n",
       "      <td>25</td>\n",
       "      <td>Community transmission</td>\n",
       "    </tr>\n",
       "    <tr>\n",
       "      <th>...</th>\n",
       "      <td>...</td>\n",
       "      <td>...</td>\n",
       "      <td>...</td>\n",
       "      <td>...</td>\n",
       "      <td>...</td>\n",
       "      <td>...</td>\n",
       "      <td>...</td>\n",
       "      <td>...</td>\n",
       "      <td>...</td>\n",
       "      <td>...</td>\n",
       "      <td>...</td>\n",
       "      <td>...</td>\n",
       "      <td>...</td>\n",
       "    </tr>\n",
       "    <tr>\n",
       "      <th>233</th>\n",
       "      <td>Saint Helena</td>\n",
       "      <td>Africa</td>\n",
       "      <td>0</td>\n",
       "      <td>0.000000</td>\n",
       "      <td>0</td>\n",
       "      <td>0.000000</td>\n",
       "      <td>0</td>\n",
       "      <td>0</td>\n",
       "      <td>0.000000</td>\n",
       "      <td>0</td>\n",
       "      <td>0.00000</td>\n",
       "      <td>0</td>\n",
       "      <td>No cases</td>\n",
       "    </tr>\n",
       "    <tr>\n",
       "      <th>234</th>\n",
       "      <td>Tokelau</td>\n",
       "      <td>Western Pacific</td>\n",
       "      <td>0</td>\n",
       "      <td>0.000000</td>\n",
       "      <td>0</td>\n",
       "      <td>0.000000</td>\n",
       "      <td>0</td>\n",
       "      <td>0</td>\n",
       "      <td>0.000000</td>\n",
       "      <td>0</td>\n",
       "      <td>0.00000</td>\n",
       "      <td>0</td>\n",
       "      <td>No cases</td>\n",
       "    </tr>\n",
       "    <tr>\n",
       "      <th>235</th>\n",
       "      <td>Tonga</td>\n",
       "      <td>Western Pacific</td>\n",
       "      <td>0</td>\n",
       "      <td>0.000000</td>\n",
       "      <td>0</td>\n",
       "      <td>0.000000</td>\n",
       "      <td>0</td>\n",
       "      <td>0</td>\n",
       "      <td>0.000000</td>\n",
       "      <td>0</td>\n",
       "      <td>0.00000</td>\n",
       "      <td>0</td>\n",
       "      <td>No cases</td>\n",
       "    </tr>\n",
       "    <tr>\n",
       "      <th>236</th>\n",
       "      <td>Turkmenistan</td>\n",
       "      <td>Europe</td>\n",
       "      <td>0</td>\n",
       "      <td>0.000000</td>\n",
       "      <td>0</td>\n",
       "      <td>0.000000</td>\n",
       "      <td>0</td>\n",
       "      <td>0</td>\n",
       "      <td>0.000000</td>\n",
       "      <td>0</td>\n",
       "      <td>0.00000</td>\n",
       "      <td>0</td>\n",
       "      <td>No cases</td>\n",
       "    </tr>\n",
       "    <tr>\n",
       "      <th>237</th>\n",
       "      <td>Tuvalu</td>\n",
       "      <td>Western Pacific</td>\n",
       "      <td>0</td>\n",
       "      <td>0.000000</td>\n",
       "      <td>0</td>\n",
       "      <td>0.000000</td>\n",
       "      <td>0</td>\n",
       "      <td>0</td>\n",
       "      <td>0.000000</td>\n",
       "      <td>0</td>\n",
       "      <td>0.00000</td>\n",
       "      <td>0</td>\n",
       "      <td>No cases</td>\n",
       "    </tr>\n",
       "  </tbody>\n",
       "</table>\n",
       "<p>238 rows × 13 columns</p>\n",
       "</div>"
      ],
      "text/plain": [
       "                      Country           Region  Total cummulative cases  \\\n",
       "0                      Global              NaN                181930736   \n",
       "1    United States of America         Americas                 33317803   \n",
       "2                       India  South-East Asia                 30411634   \n",
       "3                      Brazil         Americas                 18513305   \n",
       "4                      France           Europe                  5664630   \n",
       "..                        ...              ...                      ...   \n",
       "233              Saint Helena           Africa                        0   \n",
       "234                   Tokelau  Western Pacific                        0   \n",
       "235                     Tonga  Western Pacific                        0   \n",
       "236              Turkmenistan           Europe                        0   \n",
       "237                    Tuvalu  Western Pacific                        0   \n",
       "\n",
       "     Total cummulative cases/100,000 Pn.  New cases reported in last 7days  \\\n",
       "0                            2334.079081                           2676885   \n",
       "1                           10065.720000                             74274   \n",
       "2                            2203.730000                            328856   \n",
       "3                            8709.710000                            458652   \n",
       "4                            8709.540000                             11050   \n",
       "..                                   ...                               ...   \n",
       "233                             0.000000                                 0   \n",
       "234                             0.000000                                 0   \n",
       "235                             0.000000                                 0   \n",
       "236                             0.000000                                 0   \n",
       "237                             0.000000                                 0   \n",
       "\n",
       "     New cases reported in last 7days/100,000 Pn.  \\\n",
       "0                                       34.343077   \n",
       "1                                       22.440000   \n",
       "2                                       23.830000   \n",
       "3                                      215.780000   \n",
       "4                                       16.990000   \n",
       "..                                            ...   \n",
       "233                                      0.000000   \n",
       "234                                      0.000000   \n",
       "235                                      0.000000   \n",
       "236                                      0.000000   \n",
       "237                                      0.000000   \n",
       "\n",
       "     New cases reported in last 24 hours  Total cumulative Deaths  \\\n",
       "0                                 393657                  3945832   \n",
       "1                                      0                   599089   \n",
       "2                                  48786                   399459   \n",
       "3                                  64903                   515985   \n",
       "4                                   2457                   110162   \n",
       "..                                   ...                      ...   \n",
       "233                                    0                        0   \n",
       "234                                    0                        0   \n",
       "235                                    0                        0   \n",
       "236                                    0                        0   \n",
       "237                                    0                        0   \n",
       "\n",
       "     Total cumulative Deaths/100,000 Pn.  New Deaths reported in last 7 days  \\\n",
       "0                              50.623024                               54833   \n",
       "1                             180.990000                                1717   \n",
       "2                              28.950000                                7478   \n",
       "3                             242.750000                               11268   \n",
       "4                             169.380000                                 204   \n",
       "..                                   ...                                 ...   \n",
       "233                             0.000000                                   0   \n",
       "234                             0.000000                                   0   \n",
       "235                             0.000000                                   0   \n",
       "236                             0.000000                                   0   \n",
       "237                             0.000000                                   0   \n",
       "\n",
       "     New Deaths reported in last 7 days/100,000 Pn.  \\\n",
       "0                                           0.70348   \n",
       "1                                           0.52000   \n",
       "2                                           0.54000   \n",
       "3                                           5.30000   \n",
       "4                                           0.31000   \n",
       "..                                              ...   \n",
       "233                                         0.00000   \n",
       "234                                         0.00000   \n",
       "235                                         0.00000   \n",
       "236                                         0.00000   \n",
       "237                                         0.00000   \n",
       "\n",
       "     New Deaths reported in last 24 hours Transmission Classification  \n",
       "0                                    8097                         NaN  \n",
       "1                                       0      Community transmission  \n",
       "2                                    1005           Clusters of cases  \n",
       "3                                    1893      Community transmission  \n",
       "4                                      25      Community transmission  \n",
       "..                                    ...                         ...  \n",
       "233                                     0                    No cases  \n",
       "234                                     0                    No cases  \n",
       "235                                     0                    No cases  \n",
       "236                                     0                    No cases  \n",
       "237                                     0                    No cases  \n",
       "\n",
       "[238 rows x 13 columns]"
      ]
     },
     "execution_count": 7,
     "metadata": {},
     "output_type": "execute_result"
    }
   ],
   "source": [
    "#Checking the new data set\n",
    "My_Newdata = pd.DataFrame(df_data_1)\n",
    "My_Newdata"
   ]
  },
  {
   "cell_type": "code",
   "execution_count": 8,
   "metadata": {},
   "outputs": [],
   "source": [
    "#Set the country name as index - useful for quickly looking up countries using .loc method\n",
    "#df_data_1.set_index('Country', inplace=True)\n",
    "# let's view the first five elements and see how the dataframe was changed\n",
    "#df_data_1.head()"
   ]
  },
  {
   "cell_type": "code",
   "execution_count": 9,
   "metadata": {},
   "outputs": [],
   "source": [
    "#I will delete the first row of My_Newdata & assign it a new variable called Data; row lebelled 0\n",
    "Data = My_Newdata.drop(labels=0, axis = 0)"
   ]
  },
  {
   "cell_type": "code",
   "execution_count": 10,
   "metadata": {},
   "outputs": [
    {
     "data": {
      "text/html": [
       "<div>\n",
       "<style scoped>\n",
       "    .dataframe tbody tr th:only-of-type {\n",
       "        vertical-align: middle;\n",
       "    }\n",
       "\n",
       "    .dataframe tbody tr th {\n",
       "        vertical-align: top;\n",
       "    }\n",
       "\n",
       "    .dataframe thead th {\n",
       "        text-align: right;\n",
       "    }\n",
       "</style>\n",
       "<table border=\"1\" class=\"dataframe\">\n",
       "  <thead>\n",
       "    <tr style=\"text-align: right;\">\n",
       "      <th></th>\n",
       "      <th>Country</th>\n",
       "      <th>Region</th>\n",
       "      <th>Total cummulative cases</th>\n",
       "      <th>Total cummulative cases/100,000 Pn.</th>\n",
       "      <th>New cases reported in last 7days</th>\n",
       "      <th>New cases reported in last 7days/100,000 Pn.</th>\n",
       "      <th>New cases reported in last 24 hours</th>\n",
       "      <th>Total cumulative Deaths</th>\n",
       "      <th>Total cumulative Deaths/100,000 Pn.</th>\n",
       "      <th>New Deaths reported in last 7 days</th>\n",
       "      <th>New Deaths reported in last 7 days/100,000 Pn.</th>\n",
       "      <th>New Deaths reported in last 24 hours</th>\n",
       "      <th>Transmission Classification</th>\n",
       "    </tr>\n",
       "  </thead>\n",
       "  <tbody>\n",
       "    <tr>\n",
       "      <th>1</th>\n",
       "      <td>United States of America</td>\n",
       "      <td>Americas</td>\n",
       "      <td>33317803</td>\n",
       "      <td>10065.72</td>\n",
       "      <td>74274</td>\n",
       "      <td>22.44</td>\n",
       "      <td>0</td>\n",
       "      <td>599089</td>\n",
       "      <td>180.99</td>\n",
       "      <td>1717</td>\n",
       "      <td>0.52</td>\n",
       "      <td>0</td>\n",
       "      <td>Community transmission</td>\n",
       "    </tr>\n",
       "    <tr>\n",
       "      <th>2</th>\n",
       "      <td>India</td>\n",
       "      <td>South-East Asia</td>\n",
       "      <td>30411634</td>\n",
       "      <td>2203.73</td>\n",
       "      <td>328856</td>\n",
       "      <td>23.83</td>\n",
       "      <td>48786</td>\n",
       "      <td>399459</td>\n",
       "      <td>28.95</td>\n",
       "      <td>7478</td>\n",
       "      <td>0.54</td>\n",
       "      <td>1005</td>\n",
       "      <td>Clusters of cases</td>\n",
       "    </tr>\n",
       "    <tr>\n",
       "      <th>3</th>\n",
       "      <td>Brazil</td>\n",
       "      <td>Americas</td>\n",
       "      <td>18513305</td>\n",
       "      <td>8709.71</td>\n",
       "      <td>458652</td>\n",
       "      <td>215.78</td>\n",
       "      <td>64903</td>\n",
       "      <td>515985</td>\n",
       "      <td>242.75</td>\n",
       "      <td>11268</td>\n",
       "      <td>5.30</td>\n",
       "      <td>1893</td>\n",
       "      <td>Community transmission</td>\n",
       "    </tr>\n",
       "    <tr>\n",
       "      <th>4</th>\n",
       "      <td>France</td>\n",
       "      <td>Europe</td>\n",
       "      <td>5664630</td>\n",
       "      <td>8709.54</td>\n",
       "      <td>11050</td>\n",
       "      <td>16.99</td>\n",
       "      <td>2457</td>\n",
       "      <td>110162</td>\n",
       "      <td>169.38</td>\n",
       "      <td>204</td>\n",
       "      <td>0.31</td>\n",
       "      <td>25</td>\n",
       "      <td>Community transmission</td>\n",
       "    </tr>\n",
       "    <tr>\n",
       "      <th>5</th>\n",
       "      <td>Russian Federation</td>\n",
       "      <td>Europe</td>\n",
       "      <td>5538142</td>\n",
       "      <td>3794.95</td>\n",
       "      <td>149447</td>\n",
       "      <td>102.41</td>\n",
       "      <td>23543</td>\n",
       "      <td>135886</td>\n",
       "      <td>93.11</td>\n",
       "      <td>4423</td>\n",
       "      <td>3.03</td>\n",
       "      <td>672</td>\n",
       "      <td>Clusters of cases</td>\n",
       "    </tr>\n",
       "    <tr>\n",
       "      <th>...</th>\n",
       "      <td>...</td>\n",
       "      <td>...</td>\n",
       "      <td>...</td>\n",
       "      <td>...</td>\n",
       "      <td>...</td>\n",
       "      <td>...</td>\n",
       "      <td>...</td>\n",
       "      <td>...</td>\n",
       "      <td>...</td>\n",
       "      <td>...</td>\n",
       "      <td>...</td>\n",
       "      <td>...</td>\n",
       "      <td>...</td>\n",
       "    </tr>\n",
       "    <tr>\n",
       "      <th>233</th>\n",
       "      <td>Saint Helena</td>\n",
       "      <td>Africa</td>\n",
       "      <td>0</td>\n",
       "      <td>0.00</td>\n",
       "      <td>0</td>\n",
       "      <td>0.00</td>\n",
       "      <td>0</td>\n",
       "      <td>0</td>\n",
       "      <td>0.00</td>\n",
       "      <td>0</td>\n",
       "      <td>0.00</td>\n",
       "      <td>0</td>\n",
       "      <td>No cases</td>\n",
       "    </tr>\n",
       "    <tr>\n",
       "      <th>234</th>\n",
       "      <td>Tokelau</td>\n",
       "      <td>Western Pacific</td>\n",
       "      <td>0</td>\n",
       "      <td>0.00</td>\n",
       "      <td>0</td>\n",
       "      <td>0.00</td>\n",
       "      <td>0</td>\n",
       "      <td>0</td>\n",
       "      <td>0.00</td>\n",
       "      <td>0</td>\n",
       "      <td>0.00</td>\n",
       "      <td>0</td>\n",
       "      <td>No cases</td>\n",
       "    </tr>\n",
       "    <tr>\n",
       "      <th>235</th>\n",
       "      <td>Tonga</td>\n",
       "      <td>Western Pacific</td>\n",
       "      <td>0</td>\n",
       "      <td>0.00</td>\n",
       "      <td>0</td>\n",
       "      <td>0.00</td>\n",
       "      <td>0</td>\n",
       "      <td>0</td>\n",
       "      <td>0.00</td>\n",
       "      <td>0</td>\n",
       "      <td>0.00</td>\n",
       "      <td>0</td>\n",
       "      <td>No cases</td>\n",
       "    </tr>\n",
       "    <tr>\n",
       "      <th>236</th>\n",
       "      <td>Turkmenistan</td>\n",
       "      <td>Europe</td>\n",
       "      <td>0</td>\n",
       "      <td>0.00</td>\n",
       "      <td>0</td>\n",
       "      <td>0.00</td>\n",
       "      <td>0</td>\n",
       "      <td>0</td>\n",
       "      <td>0.00</td>\n",
       "      <td>0</td>\n",
       "      <td>0.00</td>\n",
       "      <td>0</td>\n",
       "      <td>No cases</td>\n",
       "    </tr>\n",
       "    <tr>\n",
       "      <th>237</th>\n",
       "      <td>Tuvalu</td>\n",
       "      <td>Western Pacific</td>\n",
       "      <td>0</td>\n",
       "      <td>0.00</td>\n",
       "      <td>0</td>\n",
       "      <td>0.00</td>\n",
       "      <td>0</td>\n",
       "      <td>0</td>\n",
       "      <td>0.00</td>\n",
       "      <td>0</td>\n",
       "      <td>0.00</td>\n",
       "      <td>0</td>\n",
       "      <td>No cases</td>\n",
       "    </tr>\n",
       "  </tbody>\n",
       "</table>\n",
       "<p>237 rows × 13 columns</p>\n",
       "</div>"
      ],
      "text/plain": [
       "                      Country           Region  Total cummulative cases  \\\n",
       "1    United States of America         Americas                 33317803   \n",
       "2                       India  South-East Asia                 30411634   \n",
       "3                      Brazil         Americas                 18513305   \n",
       "4                      France           Europe                  5664630   \n",
       "5          Russian Federation           Europe                  5538142   \n",
       "..                        ...              ...                      ...   \n",
       "233              Saint Helena           Africa                        0   \n",
       "234                   Tokelau  Western Pacific                        0   \n",
       "235                     Tonga  Western Pacific                        0   \n",
       "236              Turkmenistan           Europe                        0   \n",
       "237                    Tuvalu  Western Pacific                        0   \n",
       "\n",
       "     Total cummulative cases/100,000 Pn.  New cases reported in last 7days  \\\n",
       "1                               10065.72                             74274   \n",
       "2                                2203.73                            328856   \n",
       "3                                8709.71                            458652   \n",
       "4                                8709.54                             11050   \n",
       "5                                3794.95                            149447   \n",
       "..                                   ...                               ...   \n",
       "233                                 0.00                                 0   \n",
       "234                                 0.00                                 0   \n",
       "235                                 0.00                                 0   \n",
       "236                                 0.00                                 0   \n",
       "237                                 0.00                                 0   \n",
       "\n",
       "     New cases reported in last 7days/100,000 Pn.  \\\n",
       "1                                           22.44   \n",
       "2                                           23.83   \n",
       "3                                          215.78   \n",
       "4                                           16.99   \n",
       "5                                          102.41   \n",
       "..                                            ...   \n",
       "233                                          0.00   \n",
       "234                                          0.00   \n",
       "235                                          0.00   \n",
       "236                                          0.00   \n",
       "237                                          0.00   \n",
       "\n",
       "     New cases reported in last 24 hours  Total cumulative Deaths  \\\n",
       "1                                      0                   599089   \n",
       "2                                  48786                   399459   \n",
       "3                                  64903                   515985   \n",
       "4                                   2457                   110162   \n",
       "5                                  23543                   135886   \n",
       "..                                   ...                      ...   \n",
       "233                                    0                        0   \n",
       "234                                    0                        0   \n",
       "235                                    0                        0   \n",
       "236                                    0                        0   \n",
       "237                                    0                        0   \n",
       "\n",
       "     Total cumulative Deaths/100,000 Pn.  New Deaths reported in last 7 days  \\\n",
       "1                                 180.99                                1717   \n",
       "2                                  28.95                                7478   \n",
       "3                                 242.75                               11268   \n",
       "4                                 169.38                                 204   \n",
       "5                                  93.11                                4423   \n",
       "..                                   ...                                 ...   \n",
       "233                                 0.00                                   0   \n",
       "234                                 0.00                                   0   \n",
       "235                                 0.00                                   0   \n",
       "236                                 0.00                                   0   \n",
       "237                                 0.00                                   0   \n",
       "\n",
       "     New Deaths reported in last 7 days/100,000 Pn.  \\\n",
       "1                                              0.52   \n",
       "2                                              0.54   \n",
       "3                                              5.30   \n",
       "4                                              0.31   \n",
       "5                                              3.03   \n",
       "..                                              ...   \n",
       "233                                            0.00   \n",
       "234                                            0.00   \n",
       "235                                            0.00   \n",
       "236                                            0.00   \n",
       "237                                            0.00   \n",
       "\n",
       "     New Deaths reported in last 24 hours Transmission Classification  \n",
       "1                                       0      Community transmission  \n",
       "2                                    1005           Clusters of cases  \n",
       "3                                    1893      Community transmission  \n",
       "4                                      25      Community transmission  \n",
       "5                                     672           Clusters of cases  \n",
       "..                                    ...                         ...  \n",
       "233                                     0                    No cases  \n",
       "234                                     0                    No cases  \n",
       "235                                     0                    No cases  \n",
       "236                                     0                    No cases  \n",
       "237                                     0                    No cases  \n",
       "\n",
       "[237 rows x 13 columns]"
      ]
     },
     "execution_count": 10,
     "metadata": {},
     "output_type": "execute_result"
    }
   ],
   "source": [
    "#Preview the new Data\n",
    "Data"
   ]
  },
  {
   "cell_type": "code",
   "execution_count": 11,
   "metadata": {},
   "outputs": [
    {
     "data": {
      "text/html": [
       "<div>\n",
       "<style scoped>\n",
       "    .dataframe tbody tr th:only-of-type {\n",
       "        vertical-align: middle;\n",
       "    }\n",
       "\n",
       "    .dataframe tbody tr th {\n",
       "        vertical-align: top;\n",
       "    }\n",
       "\n",
       "    .dataframe thead th {\n",
       "        text-align: right;\n",
       "    }\n",
       "</style>\n",
       "<table border=\"1\" class=\"dataframe\">\n",
       "  <thead>\n",
       "    <tr style=\"text-align: right;\">\n",
       "      <th></th>\n",
       "      <th>Total cummulative cases</th>\n",
       "      <th>Total cummulative cases/100,000 Pn.</th>\n",
       "      <th>New cases reported in last 7days</th>\n",
       "      <th>New cases reported in last 7days/100,000 Pn.</th>\n",
       "      <th>New cases reported in last 24 hours</th>\n",
       "      <th>Total cumulative Deaths</th>\n",
       "      <th>Total cumulative Deaths/100,000 Pn.</th>\n",
       "      <th>New Deaths reported in last 7 days</th>\n",
       "      <th>New Deaths reported in last 7 days/100,000 Pn.</th>\n",
       "      <th>New Deaths reported in last 24 hours</th>\n",
       "    </tr>\n",
       "  </thead>\n",
       "  <tbody>\n",
       "    <tr>\n",
       "      <th>count</th>\n",
       "      <td>2.370000e+02</td>\n",
       "      <td>236.000000</td>\n",
       "      <td>237.000000</td>\n",
       "      <td>236.000000</td>\n",
       "      <td>237.00000</td>\n",
       "      <td>237.000000</td>\n",
       "      <td>236.000000</td>\n",
       "      <td>237.000000</td>\n",
       "      <td>236.000000</td>\n",
       "      <td>237.000000</td>\n",
       "    </tr>\n",
       "    <tr>\n",
       "      <th>mean</th>\n",
       "      <td>7.676402e+05</td>\n",
       "      <td>3510.346271</td>\n",
       "      <td>11294.873418</td>\n",
       "      <td>45.783771</td>\n",
       "      <td>1661.00000</td>\n",
       "      <td>16649.080169</td>\n",
       "      <td>59.170169</td>\n",
       "      <td>231.362869</td>\n",
       "      <td>0.743432</td>\n",
       "      <td>34.164557</td>\n",
       "    </tr>\n",
       "    <tr>\n",
       "      <th>std</th>\n",
       "      <td>3.261788e+06</td>\n",
       "      <td>3984.433495</td>\n",
       "      <td>44209.240831</td>\n",
       "      <td>87.022306</td>\n",
       "      <td>6501.80134</td>\n",
       "      <td>63283.479112</td>\n",
       "      <td>80.368332</td>\n",
       "      <td>1022.887063</td>\n",
       "      <td>1.885286</td>\n",
       "      <td>159.767291</td>\n",
       "    </tr>\n",
       "    <tr>\n",
       "      <th>min</th>\n",
       "      <td>0.000000e+00</td>\n",
       "      <td>0.000000</td>\n",
       "      <td>0.000000</td>\n",
       "      <td>0.000000</td>\n",
       "      <td>0.00000</td>\n",
       "      <td>0.000000</td>\n",
       "      <td>0.000000</td>\n",
       "      <td>0.000000</td>\n",
       "      <td>0.000000</td>\n",
       "      <td>-1.000000</td>\n",
       "    </tr>\n",
       "    <tr>\n",
       "      <th>25%</th>\n",
       "      <td>4.079000e+03</td>\n",
       "      <td>237.597500</td>\n",
       "      <td>20.000000</td>\n",
       "      <td>1.385000</td>\n",
       "      <td>0.00000</td>\n",
       "      <td>37.000000</td>\n",
       "      <td>2.552500</td>\n",
       "      <td>0.000000</td>\n",
       "      <td>0.000000</td>\n",
       "      <td>0.000000</td>\n",
       "    </tr>\n",
       "    <tr>\n",
       "      <th>50%</th>\n",
       "      <td>4.083600e+04</td>\n",
       "      <td>1781.395000</td>\n",
       "      <td>352.000000</td>\n",
       "      <td>10.775000</td>\n",
       "      <td>30.00000</td>\n",
       "      <td>775.000000</td>\n",
       "      <td>22.015000</td>\n",
       "      <td>4.000000</td>\n",
       "      <td>0.070000</td>\n",
       "      <td>0.000000</td>\n",
       "    </tr>\n",
       "    <tr>\n",
       "      <th>75%</th>\n",
       "      <td>3.430080e+05</td>\n",
       "      <td>6252.650000</td>\n",
       "      <td>4124.000000</td>\n",
       "      <td>46.005000</td>\n",
       "      <td>558.00000</td>\n",
       "      <td>5484.000000</td>\n",
       "      <td>88.245000</td>\n",
       "      <td>56.000000</td>\n",
       "      <td>0.512500</td>\n",
       "      <td>7.000000</td>\n",
       "    </tr>\n",
       "    <tr>\n",
       "      <th>max</th>\n",
       "      <td>3.331780e+07</td>\n",
       "      <td>18004.270000</td>\n",
       "      <td>458652.000000</td>\n",
       "      <td>636.520000</td>\n",
       "      <td>64903.00000</td>\n",
       "      <td>599089.000000</td>\n",
       "      <td>583.320000</td>\n",
       "      <td>11268.000000</td>\n",
       "      <td>13.220000</td>\n",
       "      <td>1893.000000</td>\n",
       "    </tr>\n",
       "  </tbody>\n",
       "</table>\n",
       "</div>"
      ],
      "text/plain": [
       "       Total cummulative cases  Total cummulative cases/100,000 Pn.  \\\n",
       "count             2.370000e+02                           236.000000   \n",
       "mean              7.676402e+05                          3510.346271   \n",
       "std               3.261788e+06                          3984.433495   \n",
       "min               0.000000e+00                             0.000000   \n",
       "25%               4.079000e+03                           237.597500   \n",
       "50%               4.083600e+04                          1781.395000   \n",
       "75%               3.430080e+05                          6252.650000   \n",
       "max               3.331780e+07                         18004.270000   \n",
       "\n",
       "       New cases reported in last 7days  \\\n",
       "count                        237.000000   \n",
       "mean                       11294.873418   \n",
       "std                        44209.240831   \n",
       "min                            0.000000   \n",
       "25%                           20.000000   \n",
       "50%                          352.000000   \n",
       "75%                         4124.000000   \n",
       "max                       458652.000000   \n",
       "\n",
       "       New cases reported in last 7days/100,000 Pn.  \\\n",
       "count                                    236.000000   \n",
       "mean                                      45.783771   \n",
       "std                                       87.022306   \n",
       "min                                        0.000000   \n",
       "25%                                        1.385000   \n",
       "50%                                       10.775000   \n",
       "75%                                       46.005000   \n",
       "max                                      636.520000   \n",
       "\n",
       "       New cases reported in last 24 hours  Total cumulative Deaths  \\\n",
       "count                            237.00000               237.000000   \n",
       "mean                            1661.00000             16649.080169   \n",
       "std                             6501.80134             63283.479112   \n",
       "min                                0.00000                 0.000000   \n",
       "25%                                0.00000                37.000000   \n",
       "50%                               30.00000               775.000000   \n",
       "75%                              558.00000              5484.000000   \n",
       "max                            64903.00000            599089.000000   \n",
       "\n",
       "       Total cumulative Deaths/100,000 Pn.  \\\n",
       "count                           236.000000   \n",
       "mean                             59.170169   \n",
       "std                              80.368332   \n",
       "min                               0.000000   \n",
       "25%                               2.552500   \n",
       "50%                              22.015000   \n",
       "75%                              88.245000   \n",
       "max                             583.320000   \n",
       "\n",
       "       New Deaths reported in last 7 days  \\\n",
       "count                          237.000000   \n",
       "mean                           231.362869   \n",
       "std                           1022.887063   \n",
       "min                              0.000000   \n",
       "25%                              0.000000   \n",
       "50%                              4.000000   \n",
       "75%                             56.000000   \n",
       "max                          11268.000000   \n",
       "\n",
       "       New Deaths reported in last 7 days/100,000 Pn.  \\\n",
       "count                                      236.000000   \n",
       "mean                                         0.743432   \n",
       "std                                          1.885286   \n",
       "min                                          0.000000   \n",
       "25%                                          0.000000   \n",
       "50%                                          0.070000   \n",
       "75%                                          0.512500   \n",
       "max                                         13.220000   \n",
       "\n",
       "       New Deaths reported in last 24 hours  \n",
       "count                            237.000000  \n",
       "mean                              34.164557  \n",
       "std                              159.767291  \n",
       "min                               -1.000000  \n",
       "25%                                0.000000  \n",
       "50%                                0.000000  \n",
       "75%                                7.000000  \n",
       "max                             1893.000000  "
      ]
     },
     "execution_count": 11,
     "metadata": {},
     "output_type": "execute_result"
    }
   ],
   "source": [
    "Data.describe()"
   ]
  },
  {
   "cell_type": "markdown",
   "metadata": {},
   "source": [
    "<b>Checking for missing values for the columns</b>"
   ]
  },
  {
   "cell_type": "code",
   "execution_count": 12,
   "metadata": {},
   "outputs": [
    {
     "name": "stdout",
     "output_type": "stream",
     "text": [
      "number of NaN values for the column Total cummulative cases : 0\n",
      "number of NaN values for the column Total cummulative cases/100,000 Pn.: 1\n",
      "New cases reported in last 7days : 0\n",
      "number of NaN values for the column New cases reported in last 7days/100,000 Pn. : 1\n",
      "number of NaN values for the column New cases reported in last 24 hours : 0\n",
      "number of NaN values for the column Total cumulative Deaths: 0\n",
      "number of NaN values for the column Total cumulative Deaths/100,000 Pn. : 1\n",
      "number of NaN values for the column New Deaths reported in last 7 days. : 0\n",
      "number of NaN values for the column New Deaths reported in last 7 days/100,000 Pn.. : 1\n",
      "number of NaN values for the column New Deaths reported in last 24 hours. : 0\n",
      "number of NaN values for the column Transmission Classification : 0\n"
     ]
    }
   ],
   "source": [
    "print(\"number of NaN values for the column Total cummulative cases :\", Data['Total cummulative cases'].isnull().sum())\n",
    "print(\"number of NaN values for the column Total cummulative cases/100,000 Pn.:\", Data['Total cummulative cases/100,000 Pn.'].isnull().sum())\n",
    "print(\"New cases reported in last 7days :\", Data['New cases reported in last 7days'].isnull().sum())\n",
    "print(\"number of NaN values for the column New cases reported in last 7days/100,000 Pn. :\", Data['New cases reported in last 7days/100,000 Pn.'].isnull().sum())\n",
    "print(\"number of NaN values for the column New cases reported in last 24 hours :\", Data['New cases reported in last 24 hours'].isnull().sum())\n",
    "print(\"number of NaN values for the column Total cumulative Deaths:\", Data['Total cumulative Deaths'].isnull().sum())\n",
    "print(\"number of NaN values for the column Total cumulative Deaths/100,000 Pn. :\", Data['Total cumulative Deaths/100,000 Pn.'].isnull().sum())\n",
    "print(\"number of NaN values for the column New Deaths reported in last 7 days. :\", Data['New Deaths reported in last 7 days'].isnull().sum())\n",
    "print(\"number of NaN values for the column New Deaths reported in last 7 days/100,000 Pn.. :\", Data['New Deaths reported in last 7 days/100,000 Pn.'].isnull().sum())\n",
    "print(\"number of NaN values for the column New Deaths reported in last 24 hours. :\", Data['New Deaths reported in last 24 hours'].isnull().sum())\n",
    "print(\"number of NaN values for the column Transmission Classification :\", Data['Transmission Classification'].isnull().sum())"
   ]
  },
  {
   "cell_type": "code",
   "execution_count": 13,
   "metadata": {},
   "outputs": [
    {
     "data": {
      "text/html": [
       "<div>\n",
       "<style scoped>\n",
       "    .dataframe tbody tr th:only-of-type {\n",
       "        vertical-align: middle;\n",
       "    }\n",
       "\n",
       "    .dataframe tbody tr th {\n",
       "        vertical-align: top;\n",
       "    }\n",
       "\n",
       "    .dataframe thead th {\n",
       "        text-align: right;\n",
       "    }\n",
       "</style>\n",
       "<table border=\"1\" class=\"dataframe\">\n",
       "  <thead>\n",
       "    <tr style=\"text-align: right;\">\n",
       "      <th></th>\n",
       "      <th>Region</th>\n",
       "    </tr>\n",
       "  </thead>\n",
       "  <tbody>\n",
       "    <tr>\n",
       "      <th>Europe</th>\n",
       "      <td>62</td>\n",
       "    </tr>\n",
       "    <tr>\n",
       "      <th>Americas</th>\n",
       "      <td>56</td>\n",
       "    </tr>\n",
       "    <tr>\n",
       "      <th>Africa</th>\n",
       "      <td>50</td>\n",
       "    </tr>\n",
       "    <tr>\n",
       "      <th>Western Pacific</th>\n",
       "      <td>35</td>\n",
       "    </tr>\n",
       "    <tr>\n",
       "      <th>Eastern Mediterranean</th>\n",
       "      <td>22</td>\n",
       "    </tr>\n",
       "    <tr>\n",
       "      <th>South-East Asia</th>\n",
       "      <td>11</td>\n",
       "    </tr>\n",
       "    <tr>\n",
       "      <th>Other</th>\n",
       "      <td>1</td>\n",
       "    </tr>\n",
       "  </tbody>\n",
       "</table>\n",
       "</div>"
      ],
      "text/plain": [
       "                       Region\n",
       "Europe                     62\n",
       "Americas                   56\n",
       "Africa                     50\n",
       "Western Pacific            35\n",
       "Eastern Mediterranean      22\n",
       "South-East Asia            11\n",
       "Other                       1"
      ]
     },
     "execution_count": 13,
     "metadata": {},
     "output_type": "execute_result"
    }
   ],
   "source": [
    "#Regional distribution\n",
    "Data['Region'].value_counts().to_frame()"
   ]
  },
  {
   "cell_type": "markdown",
   "metadata": {},
   "source": [
    "# Data Analysis"
   ]
  },
  {
   "cell_type": "markdown",
   "metadata": {},
   "source": [
    "<b>Model Development</b>"
   ]
  },
  {
   "cell_type": "markdown",
   "metadata": {},
   "source": [
    "1. Linear regression model to try to predict deaths (y) based on cases(x) reported at various stages\n",
    "2. And then develope a decision tree to check which transmission mode is more severe"
   ]
  },
  {
   "cell_type": "code",
   "execution_count": 14,
   "metadata": {},
   "outputs": [],
   "source": [
    "#Import libraries \n",
    "import matplotlib.pyplot as plt\n",
    "import numpy as np\n",
    "from sklearn.linear_model import LinearRegression \n",
    "%matplotlib inline"
   ]
  },
  {
   "cell_type": "markdown",
   "metadata": {},
   "source": [
    "# PART 1. LINEAR REGRESSION"
   ]
  },
  {
   "cell_type": "markdown",
   "metadata": {},
   "source": [
    "# <b>1.a) Simple Linear Regression </b>"
   ]
  },
  {
   "cell_type": "raw",
   "metadata": {},
   "source": [
    "        y = mx + c \n",
    "        y (dependent variable) = death. x (independent variable) = cases. m (slope) = coeficient. c = y intercept"
   ]
  },
  {
   "cell_type": "markdown",
   "metadata": {},
   "source": []
  },
  {
   "cell_type": "code",
   "execution_count": 15,
   "metadata": {},
   "outputs": [
    {
     "data": {
      "text/plain": [
       "array([604269.04168528, 551804.69831664, 337007.13555653, 105053.21373298,\n",
       "       102769.75744946])"
      ]
     },
     "execution_count": 15,
     "metadata": {},
     "output_type": "execute_result"
    }
   ],
   "source": [
    "#Using identified cases to predict deaths\n",
    "X = Data[['Total cummulative cases']] \n",
    "Y = Data['Total cumulative Deaths'] \n",
    "lm = LinearRegression() \n",
    "lm \n",
    "lm.fit(X,Y)\n",
    "\n",
    "Yhat=lm.predict(X)\n",
    "Yhat[0:5]"
   ]
  },
  {
   "cell_type": "code",
   "execution_count": 16,
   "metadata": {},
   "outputs": [
    {
     "data": {
      "text/plain": [
       "2791.062641186474"
      ]
     },
     "execution_count": 16,
     "metadata": {},
     "output_type": "execute_result"
    }
   ],
   "source": [
    "#Calculating the value of the intercept, c\n",
    "lm.intercept_"
   ]
  },
  {
   "cell_type": "code",
   "execution_count": 17,
   "metadata": {},
   "outputs": [
    {
     "data": {
      "text/plain": [
       "array([0.01805275])"
      ]
     },
     "execution_count": 17,
     "metadata": {},
     "output_type": "execute_result"
    }
   ],
   "source": [
    "#Calculating the value of the slope, m\n",
    "lm.coef_"
   ]
  },
  {
   "cell_type": "markdown",
   "metadata": {},
   "source": [
    "<b>1.a.a) Find the R^2 = coefficient of determination </b>"
   ]
  },
  {
   "cell_type": "code",
   "execution_count": 18,
   "metadata": {},
   "outputs": [
    {
     "name": "stdout",
     "output_type": "stream",
     "text": [
      "The R-square is:  0.8658000424354186\n"
     ]
    }
   ],
   "source": [
    "#The measure to indicate how close the data is to the fitted regression line. \n",
    "#The value of the R-squared is the percentage (%) of variation of the response variable (y) that is explained by a linear model\n",
    "#Total cummulative cases_fit\n",
    "lm.fit(X, Y)\n",
    "# Find the R^2\n",
    "print('The R-square is: ', lm.score(X, Y))"
   ]
  },
  {
   "cell_type": "markdown",
   "metadata": {},
   "source": [
    "<b>1.a.b) Find the Mean Squared Error (MSE) </b>"
   ]
  },
  {
   "cell_type": "code",
   "execution_count": 19,
   "metadata": {},
   "outputs": [],
   "source": [
    "#This measures the average of the squares of errors, that is, the difference between actual value (y) and the estimated value (ŷ)"
   ]
  },
  {
   "cell_type": "code",
   "execution_count": 20,
   "metadata": {},
   "outputs": [
    {
     "name": "stdout",
     "output_type": "stream",
     "text": [
      "The output of the first five predicted value is:  [604269.04168528 551804.69831664 337007.13555653 105053.21373298\n",
      " 102769.75744946]\n"
     ]
    }
   ],
   "source": [
    "#We can predict the output i.e., \"y\" using the predict method, where X is the input variable:\n",
    "#Let's calculate the MSE of our data\n",
    "y=lm.predict(X)\n",
    "print('The output of the first five predicted value is: ', y[0:5])"
   ]
  },
  {
   "cell_type": "code",
   "execution_count": 21,
   "metadata": {},
   "outputs": [],
   "source": [
    "#Let's import the function mean_squared_error from the module metrics\n",
    "from sklearn.metrics import mean_squared_error"
   ]
  },
  {
   "cell_type": "code",
   "execution_count": 22,
   "metadata": {},
   "outputs": [
    {
     "name": "stdout",
     "output_type": "stream",
     "text": [
      "The mean square error of Total cumulative Deaths and predicted value is:  535176123.9819026\n"
     ]
    }
   ],
   "source": [
    "#Now we can compare the predicted results with the actual results\n",
    "mse = mean_squared_error(Data['Total cumulative Deaths'], y)\n",
    "print('The mean square error of Total cumulative Deaths and predicted value is: ', mse)"
   ]
  },
  {
   "cell_type": "markdown",
   "metadata": {},
   "source": [
    "<b>Therefore;</b> \n",
    "The Model for predicting deaths based on cases (y=mx\n",
    "+c) is:"
   ]
  },
  {
   "cell_type": "markdown",
   "metadata": {},
   "source": [
    "<b>Total Cummulative Deaths</b> = 0.01805275 X Toatal Cumulative cases + 2791.062641186474  <b> As at July 1st 2021 at 7.47.07 PM</b>"
   ]
  },
  {
   "cell_type": "markdown",
   "metadata": {},
   "source": [
    "Approximately <b>86.58%</b> of the variation of the <b> Total Cumulative Deaths</b> is explained by this simple linear model \"Total cumulative cases_fit\""
   ]
  },
  {
   "cell_type": "markdown",
   "metadata": {},
   "source": []
  },
  {
   "cell_type": "markdown",
   "metadata": {},
   "source": [
    "# <b>1.b) Multiple Linear Regression </b>"
   ]
  },
  {
   "cell_type": "markdown",
   "metadata": {},
   "source": [
    "Let's predict Total Cummulative deaths using more than one variable"
   ]
  },
  {
   "cell_type": "code",
   "execution_count": 23,
   "metadata": {},
   "outputs": [],
   "source": [
    "# The different variables here are Total cummulative cases, New cases reported in last 7days,New cases reported in last 24 hours\n",
    "Z = Data[['Total cummulative cases', 'New cases reported in last 7days','New cases reported in last 24 hours']]"
   ]
  },
  {
   "cell_type": "code",
   "execution_count": 24,
   "metadata": {},
   "outputs": [
    {
     "data": {
      "text/plain": [
       "LinearRegression()"
      ]
     },
     "execution_count": 24,
     "metadata": {},
     "output_type": "execute_result"
    }
   ],
   "source": [
    "#Fitting the linear model using the three above-mentioned variables.\n",
    "lm.fit(Z, Data['Total cumulative Deaths'])"
   ]
  },
  {
   "cell_type": "code",
   "execution_count": 25,
   "metadata": {},
   "outputs": [
    {
     "data": {
      "text/plain": [
       "1996.9213236379"
      ]
     },
     "execution_count": 25,
     "metadata": {},
     "output_type": "execute_result"
    }
   ],
   "source": [
    "#Calculating the value of the intercept, c\n",
    "lm.intercept_"
   ]
  },
  {
   "cell_type": "code",
   "execution_count": 26,
   "metadata": {},
   "outputs": [
    {
     "data": {
      "text/plain": [
       "array([ 0.01476862,  0.83018798, -3.64942427])"
      ]
     },
     "execution_count": 26,
     "metadata": {},
     "output_type": "execute_result"
    }
   ],
   "source": [
    "##What are the values of the coefficients (b1, b2, b3)?\n",
    "lm.coef_"
   ]
  },
  {
   "cell_type": "markdown",
   "metadata": {},
   "source": [
    "<b>1.b.a) Find the R^2 = coefficient of determination </b>"
   ]
  },
  {
   "cell_type": "code",
   "execution_count": 27,
   "metadata": {},
   "outputs": [
    {
     "name": "stdout",
     "output_type": "stream",
     "text": [
      "The R-square is:  0.8845461656005585\n"
     ]
    }
   ],
   "source": [
    "# fit the model \n",
    "lm.fit(Z, Data['Total cumulative Deaths'])\n",
    "# Find the R^2\n",
    "print('The R-square is: ', lm.score(Z, Data['Total cumulative Deaths']))"
   ]
  },
  {
   "cell_type": "markdown",
   "metadata": {},
   "source": [
    "<b>1.b.b) Find the Mean Squared Error (MSE) </b>"
   ]
  },
  {
   "cell_type": "code",
   "execution_count": 28,
   "metadata": {},
   "outputs": [
    {
     "name": "stdout",
     "output_type": "stream",
     "text": [
      "The output of the first five predicted value is:  [555716.16518841 546106.17295463 419321.62057411  85862.61230322\n",
      " 121938.32516483]\n"
     ]
    }
   ],
   "source": [
    "#Produce the prediction\n",
    "y_predict_multifit = lm.predict(Z)\n",
    "print('The output of the first five predicted value is: ', y_predict_multifit[0:5])"
   ]
  },
  {
   "cell_type": "code",
   "execution_count": 29,
   "metadata": {},
   "outputs": [
    {
     "name": "stdout",
     "output_type": "stream",
     "text": [
      "The mean square error of Total cumulative Deaths and predicted value using multifit is:  460418443.59754777\n"
     ]
    }
   ],
   "source": [
    "#Now we can compare the predicted results with the actual results\n",
    "print('The mean square error of Total cumulative Deaths and predicted value using multifit is: ', \\\n",
    "      mean_squared_error(Data['Total cumulative Deaths'], y_predict_multifit))"
   ]
  },
  {
   "cell_type": "markdown",
   "metadata": {},
   "source": [
    "<b>Therefore;</b>\n",
    "The final estimated linear model that we get in the form: y = c + b1*x1 + b2*x2 + b3*x3"
   ]
  },
  {
   "cell_type": "markdown",
   "metadata": {},
   "source": [
    "<b>Total Cummulative Deaths</b> = 1996.9213236379 + 0.01476862 * Total cummulative cases + 0.83018798 * New cases reported in last 7days - 3.64942427 * New cases reported in last 24 hours.  <b>As at July 1st 2021 at 7.47.07 PM</b>"
   ]
  },
  {
   "cell_type": "markdown",
   "metadata": {},
   "source": [
    "Approximately <b>88.45%</b> of the variation of the Total Cumulative Deaths is explained by this simple linear model \"Total cumulative cases_fit\""
   ]
  },
  {
   "cell_type": "markdown",
   "metadata": {},
   "source": [
    "# Decision Making"
   ]
  },
  {
   "cell_type": "markdown",
   "metadata": {},
   "source": [
    "1. One with the <b>biggest R-squared value</b> is the best; in this case Multiple linear regression had • R-squared value 0.8658000424354186 Simple linear regression had R-squared value 0.8658000424354186"
   ]
  },
  {
   "cell_type": "markdown",
   "metadata": {},
   "source": [
    "2. Model with the <b>smallest MSE value</b> is a better fit for the data;"
   ]
  },
  {
   "cell_type": "markdown",
   "metadata": {},
   "source": [
    "Simple Linear Regression: Using Cases as a Predictor Variable of Total cumulative Deaths.• MSE: 535176123.9819026\n",
    "\n",
    "<b>Multiple Linear Regression</b>: Using Total cummulative cases, New cases reported in last 7days,New cases reported in last 24 hours as Predictor Variables of Total cumulative Deaths. • MSE: 460418443.59754777\n",
    "        "
   ]
  },
  {
   "cell_type": "markdown",
   "metadata": {},
   "source": [
    "# Conclusion:\n",
    "Comparing these three models, I conclude that the Multiple Linear Regression model is the best model to be able to predict Total cumulative Deaths from our dataset. This result makes sense, since we have 3 variables in total, and we know that more than one of those variables are potential predictors of the final numbers of Deaths."
   ]
  },
  {
   "cell_type": "markdown",
   "metadata": {},
   "source": [
    "The Model for predicting Total cummulative cases, New cases reported in last 7days and New cases reported in last 24 hours for PART 1 of our project is;"
   ]
  },
  {
   "cell_type": "markdown",
   "metadata": {},
   "source": [
    "# Total Cummulative Deaths = 1996.9213236379 + 0.01476862 * Total cummulative cases + 0.83018798 * New cases reported in last 7days - 3.64942427 * New cases reported in last 24 hours\n",
    "As at July 1st 2021 at 7.47.07 PM"
   ]
  },
  {
   "cell_type": "markdown",
   "metadata": {},
   "source": [
    "# PART 2. DECISION TREE ALGORITHM"
   ]
  },
  {
   "cell_type": "markdown",
   "metadata": {},
   "source": [
    "To determine the most severe tansmission mode "
   ]
  },
  {
   "cell_type": "markdown",
   "metadata": {},
   "source": [
    "# Data Analysis"
   ]
  },
  {
   "cell_type": "code",
   "execution_count": 30,
   "metadata": {},
   "outputs": [],
   "source": [
    "#Importing libraries\n",
    "import itertools\n",
    "import pandas as pd\n",
    "import matplotlib.pyplot as plt\n",
    "import numpy as np\n",
    "import seaborn as sns\n",
    "from sklearn.pipeline import Pipeline\n",
    "from sklearn.preprocessing import StandardScaler,PolynomialFeatures\n",
    "%matplotlib inline"
   ]
  },
  {
   "cell_type": "code",
   "execution_count": 31,
   "metadata": {},
   "outputs": [],
   "source": [
    "%%capture\n",
    "! pip install seaborn"
   ]
  },
  {
   "cell_type": "code",
   "execution_count": 32,
   "metadata": {},
   "outputs": [
    {
     "data": {
      "text/html": [
       "<div>\n",
       "<style scoped>\n",
       "    .dataframe tbody tr th:only-of-type {\n",
       "        vertical-align: middle;\n",
       "    }\n",
       "\n",
       "    .dataframe tbody tr th {\n",
       "        vertical-align: top;\n",
       "    }\n",
       "\n",
       "    .dataframe thead th {\n",
       "        text-align: right;\n",
       "    }\n",
       "</style>\n",
       "<table border=\"1\" class=\"dataframe\">\n",
       "  <thead>\n",
       "    <tr style=\"text-align: right;\">\n",
       "      <th></th>\n",
       "      <th>Transmission Classification</th>\n",
       "    </tr>\n",
       "  </thead>\n",
       "  <tbody>\n",
       "    <tr>\n",
       "      <th>Community transmission</th>\n",
       "      <td>149</td>\n",
       "    </tr>\n",
       "    <tr>\n",
       "      <th>Clusters of cases</th>\n",
       "      <td>41</td>\n",
       "    </tr>\n",
       "    <tr>\n",
       "      <th>No cases</th>\n",
       "      <td>25</td>\n",
       "    </tr>\n",
       "    <tr>\n",
       "      <th>Sporadic cases</th>\n",
       "      <td>18</td>\n",
       "    </tr>\n",
       "    <tr>\n",
       "      <th>Pending</th>\n",
       "      <td>3</td>\n",
       "    </tr>\n",
       "    <tr>\n",
       "      <th>Not applicable</th>\n",
       "      <td>1</td>\n",
       "    </tr>\n",
       "  </tbody>\n",
       "</table>\n",
       "</div>"
      ],
      "text/plain": [
       "                        Transmission Classification\n",
       "Community transmission                          149\n",
       "Clusters of cases                                41\n",
       "No cases                                         25\n",
       "Sporadic cases                                   18\n",
       "Pending                                           3\n",
       "Not applicable                                    1"
      ]
     },
     "execution_count": 32,
     "metadata": {},
     "output_type": "execute_result"
    }
   ],
   "source": [
    "#sorting transmission classification\n",
    "Data['Transmission Classification'].value_counts().to_frame()"
   ]
  },
  {
   "cell_type": "code",
   "execution_count": 33,
   "metadata": {},
   "outputs": [
    {
     "data": {
      "text/html": [
       "<div>\n",
       "<style scoped>\n",
       "    .dataframe tbody tr th:only-of-type {\n",
       "        vertical-align: middle;\n",
       "    }\n",
       "\n",
       "    .dataframe tbody tr th {\n",
       "        vertical-align: top;\n",
       "    }\n",
       "\n",
       "    .dataframe thead th {\n",
       "        text-align: right;\n",
       "    }\n",
       "</style>\n",
       "<table border=\"1\" class=\"dataframe\">\n",
       "  <thead>\n",
       "    <tr style=\"text-align: right;\">\n",
       "      <th></th>\n",
       "      <th>Total cumulative Deaths</th>\n",
       "      <th>Total cummulative cases</th>\n",
       "      <th>New cases reported in last 7days</th>\n",
       "      <th>New Deaths reported in last 24 hours</th>\n",
       "      <th>Transmission Classification</th>\n",
       "    </tr>\n",
       "  </thead>\n",
       "  <tbody>\n",
       "    <tr>\n",
       "      <th>1</th>\n",
       "      <td>599089</td>\n",
       "      <td>33317803</td>\n",
       "      <td>74274</td>\n",
       "      <td>0</td>\n",
       "      <td>Community transmission</td>\n",
       "    </tr>\n",
       "    <tr>\n",
       "      <th>2</th>\n",
       "      <td>399459</td>\n",
       "      <td>30411634</td>\n",
       "      <td>328856</td>\n",
       "      <td>1005</td>\n",
       "      <td>Clusters of cases</td>\n",
       "    </tr>\n",
       "    <tr>\n",
       "      <th>3</th>\n",
       "      <td>515985</td>\n",
       "      <td>18513305</td>\n",
       "      <td>458652</td>\n",
       "      <td>1893</td>\n",
       "      <td>Community transmission</td>\n",
       "    </tr>\n",
       "    <tr>\n",
       "      <th>4</th>\n",
       "      <td>110162</td>\n",
       "      <td>5664630</td>\n",
       "      <td>11050</td>\n",
       "      <td>25</td>\n",
       "      <td>Community transmission</td>\n",
       "    </tr>\n",
       "    <tr>\n",
       "      <th>5</th>\n",
       "      <td>135886</td>\n",
       "      <td>5538142</td>\n",
       "      <td>149447</td>\n",
       "      <td>672</td>\n",
       "      <td>Clusters of cases</td>\n",
       "    </tr>\n",
       "  </tbody>\n",
       "</table>\n",
       "</div>"
      ],
      "text/plain": [
       "   Total cumulative Deaths  Total cummulative cases  \\\n",
       "1                   599089                 33317803   \n",
       "2                   399459                 30411634   \n",
       "3                   515985                 18513305   \n",
       "4                   110162                  5664630   \n",
       "5                   135886                  5538142   \n",
       "\n",
       "   New cases reported in last 7days  New Deaths reported in last 24 hours  \\\n",
       "1                             74274                                     0   \n",
       "2                            328856                                  1005   \n",
       "3                            458652                                  1893   \n",
       "4                             11050                                    25   \n",
       "5                            149447                                   672   \n",
       "\n",
       "  Transmission Classification  \n",
       "1      Community transmission  \n",
       "2           Clusters of cases  \n",
       "3      Community transmission  \n",
       "4      Community transmission  \n",
       "5           Clusters of cases  "
      ]
     },
     "execution_count": 33,
     "metadata": {},
     "output_type": "execute_result"
    }
   ],
   "source": [
    "#Printing what will help in this analysis\n",
    "Data[['Total cumulative Deaths','Total cummulative cases','New cases reported in last 7days',\n",
    "      'New Deaths reported in last 24 hours', \n",
    "      'Transmission Classification']].head()"
   ]
  },
  {
   "cell_type": "code",
   "execution_count": 34,
   "metadata": {},
   "outputs": [
    {
     "data": {
      "text/html": [
       "<div>\n",
       "<style scoped>\n",
       "    .dataframe tbody tr th:only-of-type {\n",
       "        vertical-align: middle;\n",
       "    }\n",
       "\n",
       "    .dataframe tbody tr th {\n",
       "        vertical-align: top;\n",
       "    }\n",
       "\n",
       "    .dataframe thead th {\n",
       "        text-align: right;\n",
       "    }\n",
       "</style>\n",
       "<table border=\"1\" class=\"dataframe\">\n",
       "  <thead>\n",
       "    <tr style=\"text-align: right;\">\n",
       "      <th></th>\n",
       "      <th>Total cummulative cases</th>\n",
       "      <th>Total cumulative Deaths</th>\n",
       "      <th>Clusters of cases</th>\n",
       "      <th>Community transmission</th>\n",
       "      <th>Sporadic cases</th>\n",
       "    </tr>\n",
       "  </thead>\n",
       "  <tbody>\n",
       "    <tr>\n",
       "      <th>1</th>\n",
       "      <td>33317803</td>\n",
       "      <td>599089</td>\n",
       "      <td>0</td>\n",
       "      <td>1</td>\n",
       "      <td>0</td>\n",
       "    </tr>\n",
       "    <tr>\n",
       "      <th>2</th>\n",
       "      <td>30411634</td>\n",
       "      <td>399459</td>\n",
       "      <td>1</td>\n",
       "      <td>0</td>\n",
       "      <td>0</td>\n",
       "    </tr>\n",
       "    <tr>\n",
       "      <th>3</th>\n",
       "      <td>18513305</td>\n",
       "      <td>515985</td>\n",
       "      <td>0</td>\n",
       "      <td>1</td>\n",
       "      <td>0</td>\n",
       "    </tr>\n",
       "    <tr>\n",
       "      <th>4</th>\n",
       "      <td>5664630</td>\n",
       "      <td>110162</td>\n",
       "      <td>0</td>\n",
       "      <td>1</td>\n",
       "      <td>0</td>\n",
       "    </tr>\n",
       "    <tr>\n",
       "      <th>5</th>\n",
       "      <td>5538142</td>\n",
       "      <td>135886</td>\n",
       "      <td>1</td>\n",
       "      <td>0</td>\n",
       "      <td>0</td>\n",
       "    </tr>\n",
       "  </tbody>\n",
       "</table>\n",
       "</div>"
      ],
      "text/plain": [
       "   Total cummulative cases  Total cumulative Deaths  Clusters of cases  \\\n",
       "1                 33317803                   599089                  0   \n",
       "2                 30411634                   399459                  1   \n",
       "3                 18513305                   515985                  0   \n",
       "4                  5664630                   110162                  0   \n",
       "5                  5538142                   135886                  1   \n",
       "\n",
       "   Community transmission  Sporadic cases  \n",
       "1                       1               0  \n",
       "2                       0               0  \n",
       "3                       1               0  \n",
       "4                       1               0  \n",
       "5                       0               0  "
      ]
     },
     "execution_count": 34,
     "metadata": {},
     "output_type": "execute_result"
    }
   ],
   "source": [
    "#Use 'one hot encoding technique' to convert categorical varables to binary variables and append them to the New_df Data Frame\n",
    "New_df = Data[['Total cummulative cases','Total cumulative Deaths']]\n",
    "New_df = pd.concat([New_df,pd.get_dummies(Data['Transmission Classification'])], axis=1)\n",
    "New_df.drop(['No cases'], axis = 1,inplace=True)\n",
    "New_df.drop(['Pending'], axis = 1,inplace=True)\n",
    "New_df.drop(['Not applicable'], axis = 1,inplace=True)\n",
    "New_df.head()"
   ]
  },
  {
   "cell_type": "markdown",
   "metadata": {},
   "source": [
    "# Pre-processing\n",
    "Using New_df as the WHO COVID-19 global table data July 1st 2021 at 7.47.07 PM.csv data read by pandas, declare the following variables:\n",
    "\n",
    "X as the Feature Matrix (data of New_df)\n",
    "\n",
    "y as the response vector (target)"
   ]
  },
  {
   "cell_type": "code",
   "execution_count": 35,
   "metadata": {},
   "outputs": [],
   "source": [
    "from sklearn import preprocessing"
   ]
  },
  {
   "cell_type": "code",
   "execution_count": 36,
   "metadata": {},
   "outputs": [
    {
     "data": {
      "text/html": [
       "<div>\n",
       "<style scoped>\n",
       "    .dataframe tbody tr th:only-of-type {\n",
       "        vertical-align: middle;\n",
       "    }\n",
       "\n",
       "    .dataframe tbody tr th {\n",
       "        vertical-align: top;\n",
       "    }\n",
       "\n",
       "    .dataframe thead th {\n",
       "        text-align: right;\n",
       "    }\n",
       "</style>\n",
       "<table border=\"1\" class=\"dataframe\">\n",
       "  <thead>\n",
       "    <tr style=\"text-align: right;\">\n",
       "      <th></th>\n",
       "      <th>Total cummulative cases</th>\n",
       "      <th>Total cumulative Deaths</th>\n",
       "      <th>Clusters of cases</th>\n",
       "      <th>Community transmission</th>\n",
       "      <th>Sporadic cases</th>\n",
       "    </tr>\n",
       "  </thead>\n",
       "  <tbody>\n",
       "    <tr>\n",
       "      <th>1</th>\n",
       "      <td>33317803</td>\n",
       "      <td>599089</td>\n",
       "      <td>0</td>\n",
       "      <td>1</td>\n",
       "      <td>0</td>\n",
       "    </tr>\n",
       "    <tr>\n",
       "      <th>2</th>\n",
       "      <td>30411634</td>\n",
       "      <td>399459</td>\n",
       "      <td>1</td>\n",
       "      <td>0</td>\n",
       "      <td>0</td>\n",
       "    </tr>\n",
       "    <tr>\n",
       "      <th>3</th>\n",
       "      <td>18513305</td>\n",
       "      <td>515985</td>\n",
       "      <td>0</td>\n",
       "      <td>1</td>\n",
       "      <td>0</td>\n",
       "    </tr>\n",
       "    <tr>\n",
       "      <th>4</th>\n",
       "      <td>5664630</td>\n",
       "      <td>110162</td>\n",
       "      <td>0</td>\n",
       "      <td>1</td>\n",
       "      <td>0</td>\n",
       "    </tr>\n",
       "    <tr>\n",
       "      <th>5</th>\n",
       "      <td>5538142</td>\n",
       "      <td>135886</td>\n",
       "      <td>1</td>\n",
       "      <td>0</td>\n",
       "      <td>0</td>\n",
       "    </tr>\n",
       "  </tbody>\n",
       "</table>\n",
       "</div>"
      ],
      "text/plain": [
       "   Total cummulative cases  Total cumulative Deaths  Clusters of cases  \\\n",
       "1                 33317803                   599089                  0   \n",
       "2                 30411634                   399459                  1   \n",
       "3                 18513305                   515985                  0   \n",
       "4                  5664630                   110162                  0   \n",
       "5                  5538142                   135886                  1   \n",
       "\n",
       "   Community transmission  Sporadic cases  \n",
       "1                       1               0  \n",
       "2                       0               0  \n",
       "3                       1               0  \n",
       "4                       1               0  \n",
       "5                       0               0  "
      ]
     },
     "execution_count": 36,
     "metadata": {},
     "output_type": "execute_result"
    }
   ],
   "source": [
    "#Assign X to New_df as new data set\n",
    "X = New_df\n",
    "#Print first five columns\n",
    "X[0:5]"
   ]
  },
  {
   "cell_type": "markdown",
   "metadata": {},
   "source": [
    "<b>Checking the data labels</b> y"
   ]
  },
  {
   "cell_type": "code",
   "execution_count": 37,
   "metadata": {},
   "outputs": [
    {
     "data": {
      "text/plain": [
       "array(['Community transmission', 'Clusters of cases',\n",
       "       'Community transmission', 'Community transmission',\n",
       "       'Clusters of cases'], dtype=object)"
      ]
     },
     "execution_count": 37,
     "metadata": {},
     "output_type": "execute_result"
    }
   ],
   "source": [
    "y = Data['Transmission Classification'].values\n",
    "y[0:5]"
   ]
  },
  {
   "cell_type": "code",
   "execution_count": 38,
   "metadata": {},
   "outputs": [
    {
     "data": {
      "text/plain": [
       "array([2, 1, 2, 2, 1], dtype=object)"
      ]
     },
     "execution_count": 38,
     "metadata": {},
     "output_type": "execute_result"
    }
   ],
   "source": [
    "#Lets assign intergies to our labels for easy analysie. We call in the replace function to do so\n",
    "y_collection = Data['Transmission Classification'].replace(to_replace=['Community transmission', 'Clusters of cases','Sporadic cases'], value=[2,1,0]).values\n",
    "y_collection[0:5]"
   ]
  },
  {
   "cell_type": "markdown",
   "metadata": {},
   "source": [
    "# Normalizing the Data"
   ]
  },
  {
   "cell_type": "code",
   "execution_count": 39,
   "metadata": {},
   "outputs": [
    {
     "data": {
      "text/plain": [
       "array([[10.00035837,  9.22314333, -0.45736602,  0.76850766, -0.28669109],\n",
       "       [ 9.10749858,  6.06193126,  2.18643267, -1.3012232 , -0.28669109],\n",
       "       [ 5.45198524,  7.90716193, -0.45736602,  0.76850766, -0.28669109],\n",
       "       [ 1.50449793,  1.48081035, -0.45736602,  0.76850766, -0.28669109],\n",
       "       [ 1.46563713,  1.88815904,  2.18643267, -1.3012232 , -0.28669109]])"
      ]
     },
     "execution_count": 39,
     "metadata": {},
     "output_type": "execute_result"
    }
   ],
   "source": [
    "#Data Standardization give data zero mean and unit variance\n",
    "from sklearn.preprocessing import StandardScaler\n",
    "X_initial = X\n",
    "scaler = preprocessing.StandardScaler().fit(X_initial)\n",
    "X= scaler.transform(X)\n",
    "X[0:5]"
   ]
  },
  {
   "cell_type": "code",
   "execution_count": 40,
   "metadata": {},
   "outputs": [],
   "source": [
    "#Import libraries\n",
    "from sklearn import metrics\n",
    "from sklearn.metrics import confusion_matrix, classification_report\n",
    "from sklearn.metrics import jaccard_score\n",
    "from sklearn.metrics import f1_score\n",
    "from sklearn.metrics import log_loss"
   ]
  },
  {
   "cell_type": "code",
   "execution_count": 41,
   "metadata": {},
   "outputs": [
    {
     "name": "stdout",
     "output_type": "stream",
     "text": [
      "/opt/conda/envs/Python-3.7-main/lib/python3.7/site-packages/secretstorage/dhcrypto.py:16: CryptographyDeprecationWarning: int_from_bytes is deprecated, use int.from_bytes instead\n",
      "  from cryptography.utils import int_from_bytes\n",
      "/opt/conda/envs/Python-3.7-main/lib/python3.7/site-packages/secretstorage/util.py:25: CryptographyDeprecationWarning: int_from_bytes is deprecated, use int.from_bytes instead\n",
      "  from cryptography.utils import int_from_bytes\n",
      "Requirement already satisfied: six in /opt/conda/envs/Python-3.7-main/lib/python3.7/site-packages (1.15.0)\n"
     ]
    }
   ],
   "source": [
    "!pip install six"
   ]
  },
  {
   "cell_type": "code",
   "execution_count": 42,
   "metadata": {},
   "outputs": [
    {
     "name": "stdout",
     "output_type": "stream",
     "text": [
      "/opt/conda/envs/Python-3.7-main/lib/python3.7/site-packages/secretstorage/dhcrypto.py:16: CryptographyDeprecationWarning: int_from_bytes is deprecated, use int.from_bytes instead\n",
      "  from cryptography.utils import int_from_bytes\n",
      "/opt/conda/envs/Python-3.7-main/lib/python3.7/site-packages/secretstorage/util.py:25: CryptographyDeprecationWarning: int_from_bytes is deprecated, use int.from_bytes instead\n",
      "  from cryptography.utils import int_from_bytes\n",
      "Requirement already satisfied: pydotplus in /opt/conda/envs/Python-3.7-main/lib/python3.7/site-packages (2.0.2)\n",
      "Requirement already satisfied: pyparsing>=2.0.1 in /opt/conda/envs/Python-3.7-main/lib/python3.7/site-packages (from pydotplus) (2.4.7)\n"
     ]
    }
   ],
   "source": [
    "!pip install pydotplus"
   ]
  },
  {
   "cell_type": "code",
   "execution_count": 43,
   "metadata": {},
   "outputs": [],
   "source": [
    "import six\n",
    "import sys\n",
    "sys.modules['sklearn.externals.six'] = six\n",
    "from six import StringIO\n",
    "from sklearn.externals.six import StringIO\n",
    "import pydotplus\n",
    "import matplotlib.image as mpimg\n",
    "from sklearn import tree\n",
    "from sklearn.tree import DecisionTreeClassifier"
   ]
  },
  {
   "cell_type": "code",
   "execution_count": 44,
   "metadata": {},
   "outputs": [
    {
     "data": {
      "text/plain": [
       "DecisionTreeClassifier(criterion='entropy', max_depth=4)"
      ]
     },
     "execution_count": 44,
     "metadata": {},
     "output_type": "execute_result"
    }
   ],
   "source": [
    "#Build an empty DecisionTree object with depth 4\n",
    "CovidTree = DecisionTreeClassifier(criterion=\"entropy\", max_depth = 4)\n",
    "CovidTree # it shows the default parameters"
   ]
  },
  {
   "cell_type": "code",
   "execution_count": 45,
   "metadata": {},
   "outputs": [
    {
     "data": {
      "text/plain": [
       "array([[10.00035837,  9.22314333, -0.45736602,  0.76850766, -0.28669109],\n",
       "       [ 9.10749858,  6.06193126,  2.18643267, -1.3012232 , -0.28669109],\n",
       "       [ 5.45198524,  7.90716193, -0.45736602,  0.76850766, -0.28669109],\n",
       "       [ 1.50449793,  1.48081035, -0.45736602,  0.76850766, -0.28669109],\n",
       "       [ 1.46563713,  1.88815904,  2.18643267, -1.3012232 , -0.28669109]])"
      ]
     },
     "execution_count": 45,
     "metadata": {},
     "output_type": "execute_result"
    }
   ],
   "source": [
    "from sklearn import preprocessing\n",
    "from sklearn.preprocessing import MinMaxScaler \n",
    "from sklearn.preprocessing import Binarizer\n",
    "from sklearn.preprocessing import StandardScaler \n",
    "X= preprocessing.StandardScaler().fit(X).transform(X)\n",
    "X[0:5]"
   ]
  },
  {
   "cell_type": "code",
   "execution_count": 46,
   "metadata": {},
   "outputs": [
    {
     "name": "stdout",
     "output_type": "stream",
     "text": [
      "Collecting package metadata (current_repodata.json): done\n",
      "Solving environment: - \n",
      "\n",
      "Updating scikit-learn is constricted by \n",
      "\n",
      "ibm-wsrt-py37main-main -> requires scikit-learn==0.23.1[build=*]\n",
      "\n",
      "If you are sure you want an update of your package either try `conda update --all` or install a specific version of the package you want using `conda install <pkg>=<version>`\n",
      "\n",
      "done\n",
      "\n",
      "# All requested packages already installed.\n",
      "\n",
      "\n",
      "Note: you may need to restart the kernel to use updated packages.\n"
     ]
    }
   ],
   "source": [
    "conda update scikit-learn"
   ]
  },
  {
   "cell_type": "code",
   "execution_count": 47,
   "metadata": {},
   "outputs": [
    {
     "data": {
      "text/plain": [
       "DecisionTreeClassifier(criterion='entropy', max_depth=4)"
      ]
     },
     "execution_count": 47,
     "metadata": {},
     "output_type": "execute_result"
    }
   ],
   "source": [
    "#Train the decision tree using the global X data set.\n",
    "CovidTree.fit(X_initial, y)"
   ]
  },
  {
   "cell_type": "markdown",
   "metadata": {},
   "source": [
    "<b>Now let's Print the Decision Tree</b>"
   ]
  },
  {
   "cell_type": "code",
   "execution_count": 48,
   "metadata": {},
   "outputs": [
    {
     "data": {
      "text/plain": [
       "<matplotlib.image.AxesImage at 0x7f2ed77fb510>"
      ]
     },
     "execution_count": 48,
     "metadata": {},
     "output_type": "execute_result"
    },
    {
     "data": {
      "image/png": "[encoded data removed]",
      "text/plain": [
       "<Figure size 7200x14400 with 1 Axes>"
      ]
     },
     "metadata": {
      "needs_background": "light"
     },
     "output_type": "display_data"
    }
   ],
   "source": [
    "from six import StringIO\n",
    "from sklearn.externals.six import StringIO\n",
    "dot_data = StringIO()\n",
    "filename = \"TCtree.png\"\n",
    "New_dfNames = New_df.columns\n",
    "targetNames = Data['Transmission Classification'].tolist()\n",
    "out=tree.export_graphviz(CovidTree,feature_names=New_dfNames, out_file=dot_data, class_names= np.unique(y), filled=True,  special_characters=True,rotate=False)  \n",
    "graph = pydotplus.graph_from_dot_data(dot_data.getvalue())  \n",
    "graph.write_png(filename)\n",
    "img = mpimg.imread(filename)\n",
    "plt.figure(figsize=(100, 200))\n",
    "plt.imshow(img,interpolation='nearest')"
   ]
  },
  {
   "cell_type": "code",
   "execution_count": 49,
   "metadata": {},
   "outputs": [],
   "source": [
    "\n",
    "from sklearn.datasets import load_iris\n",
    "from sklearn import tree\n",
    "clf = tree.DecisionTreeClassifier()\n",
    "iris = load_iris()\n",
    "clf = clf.fit(iris.data, iris.target)\n",
    "tree.export_graphviz(clf, out_file='tree.dot')"
   ]
  },
  {
   "cell_type": "markdown",
   "metadata": {},
   "source": [
    "# Evaluating the Accuracy of Decison Tree Algorithm\n",
    "Use Decision Tree object previously trained."
   ]
  },
  {
   "cell_type": "code",
   "execution_count": 50,
   "metadata": {},
   "outputs": [
    {
     "name": "stdout",
     "output_type": "stream",
     "text": [
      "Accuracy is  0.9832635983263598  F1 is 0.788265306122449\n",
      "                        precision    recall  f1-score   support\n",
      "\n",
      "     Clusters of cases       1.00      1.00      1.00        41\n",
      "Community transmission       1.00      1.00      1.00       149\n",
      "              No cases       1.00      0.96      0.98        25\n",
      "        Not applicable       0.00      0.00      0.00         1\n",
      "               Pending       0.60      1.00      0.75         3\n",
      "        Sporadic cases       1.00      1.00      1.00        18\n",
      "\n",
      "              accuracy                           0.99       237\n",
      "             macro avg       0.77      0.83      0.79       237\n",
      "          weighted avg       0.99      0.99      0.99       237\n",
      "\n"
     ]
    },
    {
     "name": "stderr",
     "output_type": "stream",
     "text": [
      "/opt/conda/envs/Python-3.7-main/lib/python3.7/site-packages/sklearn/metrics/_classification.py:1221: UndefinedMetricWarning: Precision and F-score are ill-defined and being set to 0.0 in labels with no predicted samples. Use `zero_division` parameter to control this behavior.\n",
      "  _warn_prf(average, modifier, msg_start, len(result))\n"
     ]
    },
    {
     "data": {
      "text/plain": [
       "array([[ 41,   0,   0,   0,   0,   0],\n",
       "       [  0, 149,   0,   0,   0,   0],\n",
       "       [  0,   0,  24,   0,   1,   0],\n",
       "       [  0,   0,   0,   0,   1,   0],\n",
       "       [  0,   0,   0,   0,   3,   0],\n",
       "       [  0,   0,   0,   0,   0,  18]])"
      ]
     },
     "execution_count": 50,
     "metadata": {},
     "output_type": "execute_result"
    }
   ],
   "source": [
    "yhat_tree=CovidTree.predict(X_initial)\n",
    "tree_jacc_test=metrics.jaccard_score(y, yhat_tree, average='micro')\n",
    "tree_f1_test=metrics.f1_score(y, yhat_tree, average ='macro')\n",
    "tree_cnf_matrix = confusion_matrix(y, yhat_tree)\n",
    "print(\"Accuracy is \", tree_jacc_test, \" F1 is\" , tree_f1_test)\n",
    "print(classification_report(y, yhat_tree))\n",
    "tree_cnf_matrix"
   ]
  },
  {
   "cell_type": "markdown",
   "metadata": {},
   "source": [
    "# REMARKS\n",
    "The Accuracy is 0.98 and F1 is 0.78 :This indicates that the <b>Community Transmission</b> mode is the most significant and dangerous mode of transmission of Covid-19 at the moment (in the entire world). This reqiuires nterventions from governments, Health authorities and every body so as to curb the spread of the disease."
   ]
  },
  {
   "cell_type": "markdown",
   "metadata": {},
   "source": [
    "# Thank You"
   ]
  },
  {
   "cell_type": "code",
   "execution_count": null,
   "metadata": {},
   "outputs": [],
   "source": []
  }
 ],
 "metadata": {
  "kernelspec": {
   "display_name": "Python 3.7",
   "language": "python",
   "name": "python3"
  },
  "language_info": {
   "codemirror_mode": {
    "name": "ipython",
    "version": 3
   },
   "file_extension": ".py",
   "mimetype": "text/x-python",
   "name": "python",
   "nbconvert_exporter": "python",
   "pygments_lexer": "ipython3",
   "version": "3.7.10"
  }
 },
 "nbformat": 4,
 "nbformat_minor": 1
}
